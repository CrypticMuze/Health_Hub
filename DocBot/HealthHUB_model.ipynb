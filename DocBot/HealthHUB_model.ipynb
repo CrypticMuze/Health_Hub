{
 "cells": [
  {
   "source": [
    "# Imported Libraries"
   ],
   "cell_type": "markdown",
   "metadata": {}
  },
  {
   "cell_type": "code",
   "execution_count": 12,
   "metadata": {},
   "outputs": [],
   "source": [
    "import numpy as np\n",
    "import pandas as pd\n",
    "import matplotlib.pyplot as plt\n",
    "from sklearn.preprocessing import StandardScaler\n",
    "import sklearn.metrics as metrics\n",
    "import warnings\n",
    "from tkinter import *\n",
    "from sklearn.neighbors import KNeighborsClassifier\n",
    "from sklearn.metrics import classification_report,confusion_matrix\n",
    "from sklearn.model_selection import cross_val_score\n",
    "from sklearn.metrics import accuracy_score\n",
    "import pickle\n",
    "warnings.filterwarnings('ignore')"
   ]
  },
  {
   "source": [
    "## Symptoms and Prognosis"
   ],
   "cell_type": "markdown",
   "metadata": {}
  },
  {
   "cell_type": "code",
   "execution_count": 13,
   "metadata": {},
   "outputs": [],
   "source": [
    "trainDataset = pd.read_csv('training_data.csv')\n",
    "testDataset = pd.read_csv('test_data.csv')"
   ]
  },
  {
   "cell_type": "code",
   "execution_count": 14,
   "metadata": {},
   "outputs": [],
   "source": [
    "#list of all the symptoms\n",
    "sympList = trainDataset.iloc[1,0:132]\n",
    "\n",
    "#list of all the diagnosis\n",
    "diagList = trainDataset.iloc[:,132]"
   ]
  },
  {
   "cell_type": "code",
   "execution_count": 15,
   "metadata": {},
   "outputs": [],
   "source": [
    "sympx = trainDataset.iloc[:, 0:132].values\n",
    "diagy = trainDataset.iloc[:, 132].values\n",
    "sympx1 = testDataset.iloc[:, 0:132].values\n",
    "diagy1 = testDataset.iloc[:, 132].values"
   ]
  },
  {
   "cell_type": "markdown",
   "metadata": {},
   "source": [
    "# K-NEIGHBOURS ALGORITHMS"
   ]
  },
  {
   "cell_type": "code",
   "execution_count": 16,
   "metadata": {},
   "outputs": [
    {
     "output_type": "stream",
     "name": "stdout",
     "text": [
      "----- Predicted Values -----\n['Fungal infection' 'Allergy' 'GERD' 'Chronic cholestasis' 'Drug Reaction'\n 'Peptic ulcer diseae' 'AIDS' 'Diabetes ' 'Gastroenteritis'\n 'Bronchial Asthma' 'Hypertension ' 'Migraine' 'Cervical spondylosis'\n 'Paralysis (brain hemorrhage)' 'Jaundice' 'Malaria' 'Chicken pox'\n 'Dengue' 'Typhoid' 'hepatitis A' 'Hepatitis B' 'Hepatitis C'\n 'Hepatitis D' 'Hepatitis E' 'Alcoholic hepatitis' 'Tuberculosis'\n 'Common Cold' 'Pneumonia' 'Dimorphic hemmorhoids(piles)' 'Heart attack'\n 'Varicose veins' 'Hypothyroidism' 'Hyperthyroidism' 'Hypoglycemia'\n 'Osteoarthristis' 'Arthritis' '(vertigo) Paroymsal  Positional Vertigo'\n 'Acne' 'Urinary tract infection' 'Psoriasis' 'Impetigo' 'Impetigo']\n\n\n----- Confusion Matrix -----\n[[1 0 0 ... 0 0 0]\n [0 1 0 ... 0 0 0]\n [0 0 1 ... 0 0 0]\n ...\n [0 0 0 ... 1 0 0]\n [0 0 0 ... 0 1 0]\n [0 0 0 ... 0 0 1]]\n\n\n----- Accuracy Score -----\n97.61904761904762 %\n"
     ]
    }
   ],
   "source": [
    "sc_x = StandardScaler()\n",
    "x_train = sc_x.fit_transform(sympx)\n",
    "x_test = sc_x.transform(sympx1)\n",
    "clf1 = KNeighborsClassifier(n_neighbors = 3, metric = 'minkowski', p=2)\n",
    "clf1.fit(x_train, diagy)\n",
    "y_pred = clf1.predict(x_test)\n",
    "print(\"----- Predicted Values -----\")\n",
    "print(y_pred)\n",
    "print(\"\\n\\n----- Confusion Matrix -----\")\n",
    "print(confusion_matrix(y_pred,diagy1))\n",
    "accuracy = accuracy_score(y_pred,diagy1)\n",
    "print(\"\\n\\n----- Accuracy Score -----\")\n",
    "print(accuracy*100,\"%\")"
   ]
  },
  {
   "cell_type": "markdown",
   "metadata": {},
   "source": [
    "# NAIVE BAYES"
   ]
  },
  {
   "cell_type": "code",
   "execution_count": 17,
   "metadata": {},
   "outputs": [
    {
     "output_type": "stream",
     "name": "stdout",
     "text": [
      "----- Naive Bayes Algorithm -----\n['Fungal infection' 'Allergy' 'GERD' 'Chronic cholestasis' 'Drug Reaction'\n 'Peptic ulcer diseae' 'AIDS' 'Diabetes ' 'Gastroenteritis'\n 'Bronchial Asthma' 'Hypertension ' 'Migraine' 'Cervical spondylosis'\n 'Paralysis (brain hemorrhage)' 'Jaundice' 'Malaria' 'Chicken pox'\n 'Dengue' 'Typhoid' 'hepatitis A' 'Hepatitis B' 'Hepatitis C'\n 'Hepatitis D' 'Hepatitis E' 'Alcoholic hepatitis' 'Tuberculosis'\n 'Common Cold' 'Pneumonia' 'Dimorphic hemmorhoids(piles)' 'Heart attack'\n 'Varicose veins' 'Hypothyroidism' 'Hyperthyroidism' 'Hypoglycemia'\n 'Osteoarthristis' 'Arthritis' '(vertigo) Paroymsal  Positional Vertigo'\n 'Acne' 'Urinary tract infection' 'Psoriasis' 'Impetigo' 'Impetigo']\n\n\n--- Confusion matrix ---\n[[1 0 0 ... 0 0 0]\n [0 1 0 ... 0 0 0]\n [0 0 1 ... 0 0 0]\n ...\n [0 0 0 ... 1 0 0]\n [0 0 0 ... 0 1 0]\n [0 0 0 ... 0 0 1]]\n\n\n--- Accuracy ---\n97.61904761904762 %\n"
     ]
    }
   ],
   "source": [
    "from sklearn.naive_bayes import GaussianNB\n",
    "gnb = GaussianNB()\n",
    "gnb = gnb.fit(sympx,np.ravel(diagy))\n",
    "\n",
    "from sklearn.metrics import classification_report,confusion_matrix,accuracy_score\n",
    "y_pred1 = gnb.predict(x_test)\n",
    "print(\"----- Naive Bayes Algorithm -----\")\n",
    "print(y_pred1)\n",
    "print(\"\\n\\n--- Confusion matrix ---\")\n",
    "conf_matrix=confusion_matrix(y_pred1,diagy1)\n",
    "print(conf_matrix)\n",
    "print(\"\\n\\n--- Accuracy ---\")\n",
    "print(accuracy_score(y_pred1, diagy1)*100,\"%\")"
   ]
  },
  {
   "cell_type": "code",
   "execution_count": 18,
   "metadata": {},
   "outputs": [],
   "source": [
    "pickle.dump(clf1,open('model1.pkl','wb'))\n",
    "pickle.dump(gnb,open('model2.pkl','wb'))"
   ]
  }
 ],
 "metadata": {
  "kernelspec": {
   "name": "python3",
   "display_name": "Python 3.8.5 64-bit ('base': conda)"
  },
  "language_info": {
   "codemirror_mode": {
    "name": "ipython",
    "version": 3
   },
   "file_extension": ".py",
   "mimetype": "text/x-python",
   "name": "python",
   "nbconvert_exporter": "python",
   "pygments_lexer": "ipython3",
   "version": "3.8.5"
  },
  "interpreter": {
   "hash": "ed225720166559e7176d3793db16a2fd8d295f725007103b21ac3099d2a89ee8"
  }
 },
 "nbformat": 4,
 "nbformat_minor": 2
}